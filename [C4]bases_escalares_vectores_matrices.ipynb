{
 "cells": [
  {
   "cell_type": "markdown",
   "source": "# Objetos matemáticos",
   "metadata": {
    "formattedRanges": [],
    "cell_id": "529481e47b79447582e6d4dc150d745c",
    "tags": [],
    "is_collapsed": false,
    "deepnote_cell_type": "text-cell-h1"
   }
  },
  {
   "cell_type": "markdown",
   "source": "## Escalar",
   "metadata": {
    "formattedRanges": [],
    "cell_id": "f03b8c423eb042f7b7376ea1419f8724",
    "tags": [],
    "is_collapsed": false,
    "deepnote_cell_type": "text-cell-h2"
   }
  },
  {
   "cell_type": "markdown",
   "source": "Se denomina escalar a los números reales, constantes o complejos que sirven para describir un fenómeno físico (o de otro tipo) con magnitud.",
   "metadata": {
    "cell_id": "4170b58180464790abd3f07702bccede",
    "tags": [],
    "deepnote_cell_type": "markdown",
    "deepnote_cell_height": 74.13333129882812
   }
  },
  {
   "cell_type": "code",
   "metadata": {
    "tags": [],
    "cell_id": "5a9ce964-87ae-4ae0-8061-f36448e13137",
    "deepnote_to_be_reexecuted": false,
    "source_hash": "9e3bce99",
    "execution_start": 1658871549958,
    "execution_millis": 594,
    "deepnote_cell_type": "code",
    "deepnote_cell_height": 123.86666870117188
   },
   "source": "escalar = 5.678\nprint(escalar)",
   "execution_count": null,
   "outputs": [
    {
     "name": "stdout",
     "text": "5.678\n",
     "output_type": "stream"
    }
   ]
  },
  {
   "cell_type": "markdown",
   "source": "En python un escalar puede ser un int, float, str, bool, etc.",
   "metadata": {
    "cell_id": "3ff1ffe150ba4194bcefd8140213a987",
    "tags": [],
    "deepnote_cell_type": "markdown",
    "deepnote_cell_height": 51.73333740234375
   }
  },
  {
   "cell_type": "code",
   "metadata": {
    "cell_id": "e89bef216d1c4965a3a5857941c67510",
    "tags": [],
    "deepnote_to_be_reexecuted": false,
    "source_hash": "1d28de6",
    "execution_start": 1658871625579,
    "execution_millis": 7,
    "deepnote_cell_type": "code",
    "deepnote_cell_height": 161.73333740234375
   },
   "source": "escalar_python = True\nprint(escalar_python)\nprint(type(escalar_python))",
   "execution_count": null,
   "outputs": [
    {
     "name": "stdout",
     "text": "True\n<class 'bool'>\n",
     "output_type": "stream"
    }
   ]
  },
  {
   "cell_type": "markdown",
   "source": "## Vector",
   "metadata": {
    "formattedRanges": [],
    "cell_id": "4cc1d47445b1481eb385c3244ace7e31",
    "tags": [],
    "is_collapsed": false,
    "deepnote_cell_type": "text-cell-h2"
   }
  },
  {
   "cell_type": "markdown",
   "source": "Un vector​ es un ente matemático como la recta o el plano. Un vector se representa mediante un segmento de recta, orientado dentro del espacio euclidiano tridimensional. El vector tiene 3 elementos: módulo, dirección y sentido.",
   "metadata": {
    "cell_id": "b28f5454354b4e4fbf9c8db636efa00c",
    "tags": [],
    "deepnote_cell_type": "markdown",
    "deepnote_cell_height": 96.53334045410156
   }
  },
  {
   "cell_type": "code",
   "metadata": {
    "cell_id": "2040491aea224247a2c9d551fe0e1b6a",
    "tags": [],
    "deepnote_to_be_reexecuted": false,
    "source_hash": "c2602aa8",
    "execution_start": 1658872160795,
    "execution_millis": 17,
    "deepnote_cell_type": "code",
    "deepnote_cell_height": 75.33332824707031
   },
   "source": "import numpy as np",
   "execution_count": null,
   "outputs": []
  },
  {
   "cell_type": "code",
   "metadata": {
    "cell_id": "5b071ff2ed8a4a8c9a3d504242da47ea",
    "tags": [],
    "deepnote_to_be_reexecuted": false,
    "source_hash": "b7a79546",
    "execution_start": 1658872194087,
    "execution_millis": 403,
    "deepnote_cell_type": "code",
    "deepnote_cell_height": 123.86666870117188
   },
   "source": "vector = np.array([1,2,3,4])\nprint(vector)",
   "execution_count": null,
   "outputs": [
    {
     "name": "stdout",
     "text": "[1 2 3 4]\n",
     "output_type": "stream"
    }
   ]
  },
  {
   "cell_type": "markdown",
   "source": "## Matriz",
   "metadata": {
    "formattedRanges": [],
    "cell_id": "d990a691c8414efa9dcd3abb906a7e82",
    "tags": [],
    "is_collapsed": false,
    "deepnote_cell_type": "text-cell-h2"
   }
  },
  {
   "cell_type": "markdown",
   "source": "In mathematics, a matrix (plural matrices) is a rectangular array or table of numbers, symbols, or expressions, arranged in rows and columns, which is used to represent a mathematical object or a property of such an object.",
   "metadata": {
    "cell_id": "d862b3f829ac4b228b14aac1b2a13d31",
    "tags": [],
    "deepnote_cell_type": "markdown",
    "deepnote_cell_height": 96.53334045410156
   }
  },
  {
   "cell_type": "code",
   "metadata": {
    "cell_id": "8e9cf8e2faf540c6bee41d8744109686",
    "tags": [],
    "deepnote_to_be_reexecuted": false,
    "source_hash": "39493f56",
    "execution_start": 1658872604781,
    "execution_millis": 575,
    "deepnote_cell_type": "code",
    "deepnote_cell_height": 163.60000610351562
   },
   "source": "matriz = np.array([[1,2,3],[4,5,6],[7,8,9]])\nprint(matriz)",
   "execution_count": null,
   "outputs": [
    {
     "name": "stdout",
     "text": "[[1 2 3]\n [4 5 6]\n [7 8 9]]\n",
     "output_type": "stream"
    }
   ]
  },
  {
   "cell_type": "markdown",
   "source": "## Tensor",
   "metadata": {
    "formattedRanges": [],
    "cell_id": "6a080bb768cc46768f82cccceac2bd74",
    "tags": [],
    "is_collapsed": false,
    "deepnote_cell_type": "text-cell-h2"
   }
  },
  {
   "cell_type": "markdown",
   "source": "En matemáticas, un tensor es un objeto algebraico que describe una relación multilineal entre conjuntos de objetos algebraicos relacionados con un espacio vectorial. ",
   "metadata": {
    "cell_id": "d1f3b31e492f48aeaa708f8853392718",
    "tags": [],
    "deepnote_cell_type": "markdown",
    "deepnote_cell_height": 96.53334045410156
   }
  },
  {
   "cell_type": "code",
   "metadata": {
    "cell_id": "511cc714a3684d6f826f21a6fafb1fd0",
    "tags": [],
    "deepnote_to_be_reexecuted": false,
    "source_hash": "cf53bf68",
    "execution_start": 1658873602286,
    "execution_millis": 735,
    "deepnote_cell_type": "code",
    "deepnote_cell_height": 394.5333251953125
   },
   "source": "tensor = np.array([\n    [[255,0,0],[0,255,0],[0,0,255]],\n    [[11,12,13],[14,15,16],[17,18,19]],\n    [[21,22,23],[24,25,26],[255,0,0]]\n])\nprint(tensor)",
   "execution_count": null,
   "outputs": [
    {
     "name": "stdout",
     "text": "[[[255   0   0]\n  [  0 255   0]\n  [  0   0 255]]\n\n [[ 11  12  13]\n  [ 14  15  16]\n  [ 17  18  19]]\n\n [[ 21  22  23]\n  [ 24  25  26]\n  [255   0   0]]]\n",
     "output_type": "stream"
    }
   ]
  },
  {
   "cell_type": "code",
   "metadata": {
    "cell_id": "1d5ca82ec9284cc891b494d670b6e0ab",
    "tags": [],
    "deepnote_to_be_reexecuted": false,
    "source_hash": "6a77453d",
    "execution_start": 1658873030375,
    "execution_millis": 1049,
    "deepnote_cell_type": "code",
    "deepnote_cell_height": 75.33332824707031
   },
   "source": "import matplotlib.pyplot as plt",
   "execution_count": null,
   "outputs": []
  },
  {
   "cell_type": "code",
   "metadata": {
    "cell_id": "288b94a87e99473bb4b70922bc3f64e6",
    "tags": [],
    "deepnote_to_be_reexecuted": false,
    "source_hash": "77803644",
    "execution_start": 1658873605861,
    "execution_millis": 177,
    "owner_user_id": "f221b4bc-26fb-4d07-92fe-a21055f845af",
    "deepnote_cell_type": "code",
    "deepnote_cell_height": 363,
    "deepnote_output_heights": [
     254
    ]
   },
   "source": "plt.imshow(tensor, interpolation='nearest')\nplt.show()",
   "execution_count": null,
   "outputs": [
    {
     "data": {
      "text/plain": "<Figure size 432x288 with 1 Axes>",
      "image/png": "[encoded data removed]"
     },
     "metadata": {
      "needs_background": "light",
      "image/png": {
       "width": 271,
       "height": 252
      }
     },
     "output_type": "display_data"
    }
   ]
  },
  {
   "cell_type": "markdown",
   "source": "<a style='text-decoration:none;line-height:16px;display:flex;color:#5B5B62;padding:10px;justify-content:end;' href='https://deepnote.com?utm_source=created-in-deepnote-cell&projectId=59c466a3-ad43-41a1-9517-cab1096e0dcf' target=\"_blank\">\n<img alt='Created in deepnote.com' style='display:inline;max-height:16px;margin:0px;margin-right:7.5px;' src='data:image/svg+xml;base64,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' > </img>\nCreated in <span style='font-weight:600;margin-left:4px;'>Deepnote</span></a>",
   "metadata": {
    "tags": [],
    "created_in_deepnote_cell": true,
    "deepnote_cell_type": "markdown"
   }
  }
 ],
 "nbformat": 4,
 "nbformat_minor": 2,
 "metadata": {
  "orig_nbformat": 2,
  "deepnote": {},
  "deepnote_notebook_id": "0eb28ecf-e6a4-49ac-96a3-15857f81ad4d",
  "deepnote_execution_queue": []
 }
}