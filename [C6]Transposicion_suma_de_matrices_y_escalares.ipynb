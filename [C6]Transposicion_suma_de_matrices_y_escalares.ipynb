{
 "cells": [
  {
   "cell_type": "code",
   "metadata": {
    "tags": [],
    "cell_id": "adcf699e-5f40-4e9d-b3f2-8d6b1cf91b5d",
    "deepnote_to_be_reexecuted": false,
    "source_hash": "c2602aa8",
    "execution_start": 1659299303588,
    "execution_millis": 15,
    "deepnote_cell_type": "code",
    "deepnote_cell_height": 75.33332824707031
   },
   "source": "import numpy as np",
   "outputs": [],
   "execution_count": null
  },
  {
   "cell_type": "markdown",
   "source": "Scalar, vector, matrix and tensor.",
   "metadata": {
    "formattedRanges": [],
    "is_collapsed": false,
    "cell_id": "d9b4814682c3444a8c2734c82778c1f5",
    "tags": [],
    "deepnote_cell_type": "text-cell-p"
   }
  },
  {
   "cell_type": "code",
   "metadata": {
    "cell_id": "22fedb86cc4645c5804406a4a3f89710",
    "tags": [],
    "deepnote_to_be_reexecuted": false,
    "source_hash": "dddfe540",
    "execution_start": 1659299698144,
    "execution_millis": 55,
    "deepnote_cell_type": "code",
    "deepnote_cell_height": 201.3333282470703
   },
   "source": "scalar = 5.679\nvector = np.array([3,4,5,6])\nmatrix = np.array([[1,2],[3,4],[5,6]])\ntensor = np.array([\n    [[1,2,3,30], [4,5,6,31], [7,8,9,32]],\n    [[11,12,13,33], [14,15,16,34], [17,18,19,35]],\n    [[21,22,23,36], [24,25,26,37], [27,28,29,38]]\n])",
   "outputs": [],
   "execution_count": null
  },
  {
   "cell_type": "markdown",
   "source": "# Transpose",
   "metadata": {
    "formattedRanges": [],
    "is_collapsed": false,
    "cell_id": "eb1f01516fdb40bb8fe9567f00a82be4",
    "tags": [],
    "deepnote_cell_type": "text-cell-h1"
   }
  },
  {
   "cell_type": "markdown",
   "source": "## Scalar",
   "metadata": {
    "formattedRanges": [],
    "is_collapsed": false,
    "cell_id": "adb0179930b24962a69f9717a4efc231",
    "tags": [],
    "deepnote_cell_type": "text-cell-h2"
   }
  },
  {
   "cell_type": "code",
   "metadata": {
    "cell_id": "982860b785a4427aa4c70f63a3d34efc",
    "tags": [],
    "deepnote_to_be_reexecuted": false,
    "source_hash": "edb4d2fa",
    "execution_start": 1659299502635,
    "execution_millis": 786,
    "deepnote_cell_type": "code",
    "deepnote_cell_height": 138.1999969482422
   },
   "source": "escalar_t = scalar.T ",
   "outputs": [
    {
     "output_type": "error",
     "ename": "AttributeError",
     "evalue": "'float' object has no attribute 'T'",
     "traceback": [
      "\u001b[0;31m---------------------------------------------------------------------------\u001b[0m",
      "\u001b[0;31mAttributeError\u001b[0m                            Traceback (most recent call last)",
      "\u001b[0;32m<ipython-input-4-bfd5c3183b83>\u001b[0m in \u001b[0;36m<cell line: 1>\u001b[0;34m()\u001b[0m\n\u001b[0;32m----> 1\u001b[0;31m \u001b[0mescalar_t\u001b[0m \u001b[0;34m=\u001b[0m \u001b[0mscalar\u001b[0m\u001b[0;34m.\u001b[0m\u001b[0mT\u001b[0m\u001b[0;34m\u001b[0m\u001b[0;34m\u001b[0m\u001b[0m\n\u001b[0m",
      "\u001b[0;31mAttributeError\u001b[0m: 'float' object has no attribute 'T'"
     ]
    }
   ],
   "execution_count": null
  },
  {
   "cell_type": "markdown",
   "source": "## Vector",
   "metadata": {
    "formattedRanges": [],
    "is_collapsed": false,
    "cell_id": "92a9e36675f541a1866cec1f7374f99d",
    "tags": [],
    "deepnote_cell_type": "text-cell-h2"
   }
  },
  {
   "cell_type": "code",
   "metadata": {
    "cell_id": "2e7492653dc24163a04a0077134c6f44",
    "tags": [],
    "deepnote_to_be_reexecuted": false,
    "source_hash": "ac6bd94c",
    "execution_start": 1659299616619,
    "execution_millis": 27,
    "deepnote_cell_type": "code",
    "deepnote_cell_height": 179.73333740234375
   },
   "source": "vector_t = vector.T\nprint(vector)\nprint(vector_t)\n",
   "outputs": [
    {
     "name": "stdout",
     "text": "[3 4 5 6]\n[3 4 5 6]\n",
     "output_type": "stream"
    }
   ],
   "execution_count": null
  },
  {
   "cell_type": "markdown",
   "source": "## Matrix",
   "metadata": {
    "formattedRanges": [],
    "is_collapsed": false,
    "cell_id": "a1d8114205e04404805b864a69b51571",
    "tags": [],
    "deepnote_cell_type": "text-cell-h2"
   }
  },
  {
   "cell_type": "code",
   "metadata": {
    "cell_id": "a568e5f3edf24068907926826e16dbb8",
    "tags": [],
    "deepnote_to_be_reexecuted": false,
    "source_hash": "daba6b3c",
    "execution_start": 1659299700911,
    "execution_millis": 10,
    "deepnote_cell_type": "code",
    "deepnote_cell_height": 221.3333282470703
   },
   "source": "matrix_t = matrix.T\nprint(matrix)\nprint(matrix_t)",
   "outputs": [
    {
     "name": "stdout",
     "text": "[[1 2]\n [3 4]\n [5 6]]\n[[1 3 5]\n [2 4 6]]\n",
     "output_type": "stream"
    }
   ],
   "execution_count": null
  },
  {
   "cell_type": "code",
   "metadata": {
    "cell_id": "ace46d20b31d44d8bc2961f6dee0ad05",
    "tags": [],
    "deepnote_to_be_reexecuted": false,
    "source_hash": "ec21249",
    "execution_start": 1659299737484,
    "execution_millis": 360,
    "deepnote_cell_type": "code",
    "deepnote_cell_height": 112,
    "deepnote_output_heights": [
     21
    ]
   },
   "source": "matrix.shape",
   "outputs": [
    {
     "output_type": "execute_result",
     "execution_count": 12,
     "data": {
      "text/plain": "(3, 2)"
     },
     "metadata": {}
    }
   ],
   "execution_count": null
  },
  {
   "cell_type": "code",
   "metadata": {
    "cell_id": "00e777e4ecb34827a50a8aabe53b645f",
    "tags": [],
    "deepnote_to_be_reexecuted": false,
    "source_hash": "9dc607cd",
    "execution_start": 1659299749912,
    "execution_millis": 18,
    "deepnote_cell_type": "code",
    "deepnote_cell_height": 112,
    "deepnote_output_heights": [
     21
    ]
   },
   "source": "matrix_t.shape",
   "outputs": [
    {
     "output_type": "execute_result",
     "execution_count": 13,
     "data": {
      "text/plain": "(2, 3)"
     },
     "metadata": {}
    }
   ],
   "execution_count": null
  },
  {
   "cell_type": "markdown",
   "source": "## Tensor",
   "metadata": {
    "formattedRanges": [],
    "is_collapsed": false,
    "cell_id": "f957acd2e082423b8624510353e5a001",
    "tags": [],
    "deepnote_cell_type": "text-cell-h2"
   }
  },
  {
   "cell_type": "code",
   "metadata": {
    "cell_id": "872f4e405ee7450fb4850ce22f2c5bd1",
    "tags": [],
    "deepnote_to_be_reexecuted": false,
    "source_hash": "a2ca53c6",
    "execution_start": 1659299841767,
    "execution_millis": 0,
    "deepnote_cell_type": "code",
    "deepnote_cell_height": 417,
    "deepnote_output_heights": [
     290
    ]
   },
   "source": "tensor_t = tensor.T\ntensor_t\n",
   "outputs": [
    {
     "output_type": "execute_result",
     "execution_count": 16,
     "data": {
      "text/plain": "array([[[ 1, 11, 21],\n        [ 4, 14, 24],\n        [ 7, 17, 27]],\n\n       [[ 2, 12, 22],\n        [ 5, 15, 25],\n        [ 8, 18, 28]],\n\n       [[ 3, 13, 23],\n        [ 6, 16, 26],\n        [ 9, 19, 29]],\n\n       [[30, 33, 36],\n        [31, 34, 37],\n        [32, 35, 38]]])"
     },
     "metadata": {}
    }
   ],
   "execution_count": null
  },
  {
   "cell_type": "code",
   "metadata": {
    "cell_id": "1ac29e9ca7f64be5a02f642eb82b4d28",
    "tags": [],
    "deepnote_to_be_reexecuted": false,
    "source_hash": "3593c8d2",
    "execution_start": 1659299847639,
    "execution_millis": 19,
    "deepnote_cell_type": "code",
    "deepnote_cell_height": 304,
    "deepnote_output_heights": [
     213
    ]
   },
   "source": "tensor",
   "outputs": [
    {
     "output_type": "execute_result",
     "execution_count": 17,
     "data": {
      "text/plain": "array([[[ 1,  2,  3, 30],\n        [ 4,  5,  6, 31],\n        [ 7,  8,  9, 32]],\n\n       [[11, 12, 13, 33],\n        [14, 15, 16, 34],\n        [17, 18, 19, 35]],\n\n       [[21, 22, 23, 36],\n        [24, 25, 26, 37],\n        [27, 28, 29, 38]]])"
     },
     "metadata": {}
    }
   ],
   "execution_count": null
  },
  {
   "cell_type": "code",
   "metadata": {
    "cell_id": "871670cfba1e4c48ab8013c0cb592960",
    "tags": [],
    "deepnote_to_be_reexecuted": false,
    "source_hash": "ebce8c81",
    "execution_start": 1659299939434,
    "execution_millis": 0,
    "deepnote_cell_type": "code",
    "deepnote_cell_height": 112,
    "deepnote_output_heights": [
     21
    ]
   },
   "source": "tensor.shape",
   "outputs": [
    {
     "output_type": "execute_result",
     "execution_count": 18,
     "data": {
      "text/plain": "(3, 3, 4)"
     },
     "metadata": {}
    }
   ],
   "execution_count": null
  },
  {
   "cell_type": "code",
   "metadata": {
    "cell_id": "1750fc6f651647d089e9c67419ca1121",
    "tags": [],
    "deepnote_to_be_reexecuted": false,
    "source_hash": "14e3a759",
    "execution_start": 1659299949871,
    "execution_millis": 16,
    "deepnote_cell_type": "code",
    "deepnote_cell_height": 112,
    "deepnote_output_heights": [
     21
    ]
   },
   "source": "tensor_t.shape",
   "outputs": [
    {
     "output_type": "execute_result",
     "execution_count": 19,
     "data": {
      "text/plain": "(4, 3, 3)"
     },
     "metadata": {}
    }
   ],
   "execution_count": null
  },
  {
   "cell_type": "code",
   "metadata": {
    "cell_id": "dd117ff855214c55bd7580bfaaf69a65",
    "tags": [],
    "deepnote_to_be_reexecuted": false,
    "source_hash": "c62d70fa",
    "execution_start": 1659300613429,
    "execution_millis": 21,
    "deepnote_cell_type": "code",
    "deepnote_cell_height": 322,
    "deepnote_output_heights": [
     213
    ]
   },
   "source": "tensor_t_t = tensor_t.T\ntensor_t_t",
   "outputs": [
    {
     "output_type": "execute_result",
     "execution_count": 21,
     "data": {
      "text/plain": "array([[[ 1,  2,  3, 30],\n        [ 4,  5,  6, 31],\n        [ 7,  8,  9, 32]],\n\n       [[11, 12, 13, 33],\n        [14, 15, 16, 34],\n        [17, 18, 19, 35]],\n\n       [[21, 22, 23, 36],\n        [24, 25, 26, 37],\n        [27, 28, 29, 38]]])"
     },
     "metadata": {}
    }
   ],
   "execution_count": null
  },
  {
   "cell_type": "markdown",
   "source": "# Sum of matrices",
   "metadata": {
    "formattedRanges": [],
    "is_collapsed": false,
    "cell_id": "6d45c477c02e43f79a2849eb50a7df66",
    "tags": [],
    "deepnote_cell_type": "text-cell-h1"
   }
  },
  {
   "cell_type": "code",
   "metadata": {
    "cell_id": "cd8ab43590e347728d731d7302f4d3cc",
    "tags": [],
    "deepnote_to_be_reexecuted": false,
    "source_hash": "eeb5770a",
    "execution_start": 1659300966277,
    "execution_millis": 234,
    "deepnote_cell_type": "code",
    "deepnote_cell_height": 174.1999969482422
   },
   "source": "A = matrix\nB = matrix_t\nC = A+B",
   "outputs": [
    {
     "output_type": "error",
     "ename": "ValueError",
     "evalue": "operands could not be broadcast together with shapes (3,2) (2,3) ",
     "traceback": [
      "\u001b[0;31m---------------------------------------------------------------------------\u001b[0m",
      "\u001b[0;31mValueError\u001b[0m                                Traceback (most recent call last)",
      "\u001b[0;32m<ipython-input-22-15c430fc4e87>\u001b[0m in \u001b[0;36m<cell line: 3>\u001b[0;34m()\u001b[0m\n\u001b[1;32m      1\u001b[0m \u001b[0mA\u001b[0m \u001b[0;34m=\u001b[0m \u001b[0mmatrix\u001b[0m\u001b[0;34m\u001b[0m\u001b[0;34m\u001b[0m\u001b[0m\n\u001b[1;32m      2\u001b[0m \u001b[0mB\u001b[0m \u001b[0;34m=\u001b[0m \u001b[0mmatrix_t\u001b[0m\u001b[0;34m\u001b[0m\u001b[0;34m\u001b[0m\u001b[0m\n\u001b[0;32m----> 3\u001b[0;31m \u001b[0mC\u001b[0m \u001b[0;34m=\u001b[0m \u001b[0mA\u001b[0m\u001b[0;34m+\u001b[0m\u001b[0mB\u001b[0m\u001b[0;34m\u001b[0m\u001b[0;34m\u001b[0m\u001b[0m\n\u001b[0m",
      "\u001b[0;31mValueError\u001b[0m: operands could not be broadcast together with shapes (3,2) (2,3) "
     ]
    }
   ],
   "execution_count": null
  },
  {
   "cell_type": "code",
   "metadata": {
    "cell_id": "dbabf5c65b9745a49919ba9888b122cf",
    "tags": [],
    "deepnote_to_be_reexecuted": false,
    "source_hash": "783b9cc4",
    "execution_start": 1659301089169,
    "execution_millis": 17,
    "allow_embed": false,
    "deepnote_cell_type": "code",
    "deepnote_cell_height": 129.3333282470703
   },
   "source": "A = np.array(([1,2],[3,4],[5,6]))\nB = np.array(([3,4],[5,6],[1,2]))\nC = A + B\n",
   "outputs": [],
   "execution_count": null
  },
  {
   "cell_type": "code",
   "metadata": {
    "cell_id": "4bdcbbf076434168aa9c044a1932ae47",
    "tags": [],
    "deepnote_to_be_reexecuted": false,
    "source_hash": "d12c9a80",
    "execution_start": 1659301102335,
    "execution_millis": 14,
    "deepnote_cell_type": "code",
    "deepnote_cell_height": 151,
    "deepnote_output_heights": [
     60
    ]
   },
   "source": "A",
   "outputs": [
    {
     "output_type": "execute_result",
     "execution_count": 25,
     "data": {
      "text/plain": "array([[1, 2],\n       [3, 4],\n       [5, 6]])"
     },
     "metadata": {}
    }
   ],
   "execution_count": null
  },
  {
   "cell_type": "code",
   "metadata": {
    "cell_id": "cda7a43c95fe4fe0b0ccc1c622f9a1dd",
    "tags": [],
    "deepnote_to_be_reexecuted": false,
    "source_hash": "ddbccdce",
    "execution_start": 1659301108413,
    "execution_millis": 661,
    "deepnote_cell_type": "code",
    "deepnote_cell_height": 151,
    "deepnote_output_heights": [
     60
    ]
   },
   "source": "B",
   "outputs": [
    {
     "output_type": "execute_result",
     "execution_count": 27,
     "data": {
      "text/plain": "array([[3, 4],\n       [5, 6],\n       [1, 2]])"
     },
     "metadata": {}
    }
   ],
   "execution_count": null
  },
  {
   "cell_type": "code",
   "metadata": {
    "cell_id": "8fd71bd6f0b3472788141a58cdd5bc98",
    "tags": [],
    "deepnote_to_be_reexecuted": false,
    "source_hash": "bb761050",
    "execution_start": 1659301112295,
    "execution_millis": 16,
    "deepnote_cell_type": "code",
    "deepnote_cell_height": 151,
    "deepnote_output_heights": [
     60
    ]
   },
   "source": "C",
   "outputs": [
    {
     "output_type": "execute_result",
     "execution_count": 28,
     "data": {
      "text/plain": "array([[ 4,  6],\n       [ 8, 10],\n       [ 6,  8]])"
     },
     "metadata": {}
    }
   ],
   "execution_count": null
  },
  {
   "cell_type": "code",
   "metadata": {
    "cell_id": "9667187627c54597b112272b446aeb13",
    "tags": [],
    "deepnote_to_be_reexecuted": false,
    "source_hash": "32f78d42",
    "execution_start": 1659301224861,
    "execution_millis": 1,
    "deepnote_cell_type": "code",
    "deepnote_cell_height": 169,
    "deepnote_output_heights": [
     60
    ]
   },
   "source": "D = C + scalar\nD",
   "outputs": [
    {
     "output_type": "execute_result",
     "execution_count": 30,
     "data": {
      "text/plain": "array([[ 9.679, 11.679],\n       [13.679, 15.679],\n       [11.679, 13.679]])"
     },
     "metadata": {}
    }
   ],
   "execution_count": null
  },
  {
   "cell_type": "code",
   "metadata": {
    "cell_id": "6d97cc25a4304cb8ad3b84cfd25fcf30",
    "tags": [],
    "deepnote_to_be_reexecuted": false,
    "source_hash": "ce4e04a1",
    "execution_start": 1659301395865,
    "execution_millis": 15,
    "deepnote_cell_type": "code",
    "deepnote_cell_height": 207,
    "deepnote_output_heights": [
     98
    ]
   },
   "source": "P = np.random.randint(0,25,25).reshape(5,5)\nP",
   "outputs": [
    {
     "output_type": "execute_result",
     "execution_count": 38,
     "data": {
      "text/plain": "array([[18, 23, 20, 12,  6],\n       [ 1, 17,  6, 24, 18],\n       [16, 19, 10, 19, 21],\n       [11,  6,  0,  9, 20],\n       [ 8, 17,  3, 22, 19]])"
     },
     "metadata": {}
    }
   ],
   "execution_count": null
  },
  {
   "cell_type": "code",
   "metadata": {
    "cell_id": "5c254e2e1ad24cc98fb46f3e5c2725e4",
    "tags": [],
    "deepnote_to_be_reexecuted": false,
    "source_hash": "5bdbeb15",
    "execution_start": 1659301611655,
    "execution_millis": 551,
    "deepnote_cell_type": "code",
    "deepnote_cell_height": 207,
    "deepnote_output_heights": [
     98
    ]
   },
   "source": "P_t = P.T\nP_t",
   "outputs": [
    {
     "output_type": "execute_result",
     "execution_count": 40,
     "data": {
      "text/plain": "array([[18,  1, 16, 11,  8],\n       [23, 17, 19,  6, 17],\n       [20,  6, 10,  0,  3],\n       [12, 24, 19,  9, 22],\n       [ 6, 18, 21, 20, 19]])"
     },
     "metadata": {}
    }
   ],
   "execution_count": null
  },
  {
   "cell_type": "code",
   "metadata": {
    "cell_id": "e6d80bb8f07b4997aebe6259c5190ad6",
    "tags": [],
    "deepnote_to_be_reexecuted": false,
    "source_hash": "e6febb4a",
    "execution_start": 1659301677988,
    "execution_millis": 7,
    "deepnote_cell_type": "code",
    "deepnote_cell_height": 207,
    "deepnote_output_heights": [
     98
    ]
   },
   "source": "sum_of_P = P + P_t\nsum_of_P",
   "outputs": [
    {
     "output_type": "execute_result",
     "execution_count": 42,
     "data": {
      "text/plain": "array([[36, 24, 36, 23, 14],\n       [24, 34, 25, 30, 35],\n       [36, 25, 20, 19, 24],\n       [23, 30, 19, 18, 42],\n       [14, 35, 24, 42, 38]])"
     },
     "metadata": {}
    }
   ],
   "execution_count": null
  },
  {
   "cell_type": "markdown",
   "source": "<a style='text-decoration:none;line-height:16px;display:flex;color:#5B5B62;padding:10px;justify-content:end;' href='https://deepnote.com?utm_source=created-in-deepnote-cell&projectId=59c466a3-ad43-41a1-9517-cab1096e0dcf' target=\"_blank\">\n<img alt='Created in deepnote.com' style='display:inline;max-height:16px;margin:0px;margin-right:7.5px;' src='data:image/svg+xml;base64,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' > </img>\nCreated in <span style='font-weight:600;margin-left:4px;'>Deepnote</span></a>",
   "metadata": {
    "tags": [],
    "created_in_deepnote_cell": true,
    "deepnote_cell_type": "markdown"
   }
  }
 ],
 "nbformat": 4,
 "nbformat_minor": 2,
 "metadata": {
  "orig_nbformat": 2,
  "deepnote": {},
  "deepnote_notebook_id": "277d46d3-ae82-4eb7-a17f-ed4ab05d504c",
  "deepnote_execution_queue": []
 }
}