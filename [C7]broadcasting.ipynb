{
 "cells": [
  {
   "cell_type": "code",
   "source": "import numpy as np",
   "metadata": {
    "tags": [],
    "cell_id": "01453940-d428-4c3e-8ab9-47fa6f65c79c",
    "deepnote_to_be_reexecuted": false,
    "source_hash": "c2602aa8",
    "execution_start": 1659304957042,
    "execution_millis": 0,
    "deepnote_cell_type": "code",
    "deepnote_cell_height": 75.33332824707031
   },
   "execution_count": 1,
   "outputs": []
  },
  {
   "cell_type": "code",
   "source": "escalar = 5.679\nvector = np.array([3,4,5])\nmatriz = np.array(([1,2],[3,4],[5,6]))",
   "metadata": {
    "cell_id": "79e9a9577d554c478460eafc31ecda1c",
    "tags": [],
    "deepnote_to_be_reexecuted": false,
    "source_hash": "ddba70cb",
    "execution_start": 1659304957043,
    "execution_millis": 0,
    "deepnote_cell_type": "code",
    "deepnote_cell_height": 111.33332824707031
   },
   "outputs": [],
   "execution_count": 2
  },
  {
   "cell_type": "code",
   "source": "A = vector + matriz",
   "metadata": {
    "cell_id": "e8ba5caa2af84b05b219b75a519cf778",
    "tags": [],
    "deepnote_to_be_reexecuted": false,
    "source_hash": "6846b707",
    "execution_start": 1659304957043,
    "execution_millis": 574,
    "deepnote_cell_type": "code",
    "deepnote_cell_height": 138.1999969482422
   },
   "outputs": [
    {
     "output_type": "error",
     "ename": "ValueError",
     "evalue": "operands could not be broadcast together with shapes (3,) (3,2) ",
     "traceback": [
      "\u001b[0;31m---------------------------------------------------------------------------\u001b[0m",
      "\u001b[0;31mValueError\u001b[0m                                Traceback (most recent call last)",
      "\u001b[0;32m<ipython-input-3-57bf6f3bc9e4>\u001b[0m in \u001b[0;36m<cell line: 1>\u001b[0;34m()\u001b[0m\n\u001b[0;32m----> 1\u001b[0;31m \u001b[0mA\u001b[0m \u001b[0;34m=\u001b[0m \u001b[0mvector\u001b[0m \u001b[0;34m+\u001b[0m \u001b[0mmatriz\u001b[0m\u001b[0;34m\u001b[0m\u001b[0;34m\u001b[0m\u001b[0m\n\u001b[0m",
      "\u001b[0;31mValueError\u001b[0m: operands could not be broadcast together with shapes (3,) (3,2) "
     ]
    }
   ],
   "execution_count": 3
  },
  {
   "cell_type": "code",
   "source": "matriz.T",
   "metadata": {
    "cell_id": "2a72e619907a4b09811c2bff63c75d06",
    "tags": [],
    "deepnote_to_be_reexecuted": false,
    "source_hash": "5a483db",
    "execution_start": 1659305005019,
    "execution_millis": 3,
    "deepnote_cell_type": "code",
    "deepnote_cell_height": 131,
    "deepnote_output_heights": [
     40
    ]
   },
   "outputs": [
    {
     "output_type": "execute_result",
     "execution_count": 5,
     "data": {
      "text/plain": "array([[1, 3, 5],\n       [2, 4, 6]])"
     },
     "metadata": {}
    }
   ],
   "execution_count": 5
  },
  {
   "cell_type": "code",
   "source": "A = vector + matriz.T\nA",
   "metadata": {
    "cell_id": "5cd65b558d0646eba4dc80fa6a149a7c",
    "tags": [],
    "deepnote_to_be_reexecuted": false,
    "source_hash": "3be4fcd0",
    "execution_start": 1659304997781,
    "execution_millis": 4,
    "deepnote_cell_type": "code",
    "deepnote_cell_height": 149,
    "deepnote_output_heights": [
     40
    ]
   },
   "outputs": [
    {
     "output_type": "execute_result",
     "execution_count": 4,
     "data": {
      "text/plain": "array([[ 4,  7, 10],\n       [ 5,  8, 11]])"
     },
     "metadata": {}
    }
   ],
   "execution_count": 4
  },
  {
   "cell_type": "markdown",
   "source": "# Broadcasting",
   "metadata": {
    "is_collapsed": false,
    "cell_id": "2deb864e1b83471c8307f9060da3c17b",
    "tags": [],
    "formattedRanges": [],
    "deepnote_cell_type": "text-cell-h1"
   }
  },
  {
   "cell_type": "code",
   "source": "colum_vector = np.array([1,2,3,4,5]).reshape(5,1)\nrow_vector = np.array([1,2,3,4,5])\nmatrix_5x5 = np.arange(0,25).reshape(5,5)\nmatrix_5x5",
   "metadata": {
    "cell_id": "0178c5eb36f14df58a368df039be44e1",
    "tags": [],
    "deepnote_to_be_reexecuted": false,
    "source_hash": "6b7e55ef",
    "execution_start": 1659305119315,
    "execution_millis": 7,
    "deepnote_cell_type": "code",
    "deepnote_cell_height": 243,
    "deepnote_output_heights": [
     98
    ]
   },
   "outputs": [
    {
     "output_type": "execute_result",
     "execution_count": 6,
     "data": {
      "text/plain": "array([[ 0,  1,  2,  3,  4],\n       [ 5,  6,  7,  8,  9],\n       [10, 11, 12, 13, 14],\n       [15, 16, 17, 18, 19],\n       [20, 21, 22, 23, 24]])"
     },
     "metadata": {}
    }
   ],
   "execution_count": 6
  },
  {
   "cell_type": "markdown",
   "source": "## Broadcasting column vector",
   "metadata": {
    "is_collapsed": false,
    "cell_id": "7af5096dca834b10a1832b30ae70397a",
    "tags": [],
    "formattedRanges": [],
    "deepnote_cell_type": "text-cell-h2"
   }
  },
  {
   "cell_type": "code",
   "source": "broadcasting_colum = matrix_5x5 + colum_vector\nbroadcasting_colum",
   "metadata": {
    "cell_id": "e50d57d60ebf45ba910c9f77b3153fe4",
    "tags": [],
    "deepnote_to_be_reexecuted": false,
    "source_hash": "7853f21c",
    "execution_start": 1659305207161,
    "execution_millis": 3,
    "deepnote_cell_type": "code",
    "deepnote_cell_height": 207,
    "deepnote_output_heights": [
     98
    ]
   },
   "outputs": [
    {
     "output_type": "execute_result",
     "execution_count": 7,
     "data": {
      "text/plain": "array([[ 1,  2,  3,  4,  5],\n       [ 7,  8,  9, 10, 11],\n       [13, 14, 15, 16, 17],\n       [19, 20, 21, 22, 23],\n       [25, 26, 27, 28, 29]])"
     },
     "metadata": {}
    }
   ],
   "execution_count": 7
  },
  {
   "cell_type": "markdown",
   "source": "## Broadcasting row vector",
   "metadata": {
    "is_collapsed": false,
    "cell_id": "3080747f1ddc41248e2892b641b3bed6",
    "tags": [],
    "formattedRanges": [],
    "deepnote_cell_type": "text-cell-h2"
   }
  },
  {
   "cell_type": "code",
   "source": "broadcasting_row = matrix_5x5 + row_vector\nbroadcasting_row",
   "metadata": {
    "cell_id": "687dc5e03d4e49c19d11ec490fddb251",
    "tags": [],
    "deepnote_to_be_reexecuted": false,
    "source_hash": "b863269d",
    "execution_start": 1659305257956,
    "execution_millis": 5,
    "deepnote_cell_type": "code",
    "deepnote_cell_height": 78.33332824707031
   },
   "outputs": [
    {
     "output_type": "execute_result",
     "execution_count": 8,
     "data": {
      "text/plain": "array([[ 1,  3,  5,  7,  9],\n       [ 6,  8, 10, 12, 14],\n       [11, 13, 15, 17, 19],\n       [16, 18, 20, 22, 24],\n       [21, 23, 25, 27, 29]])"
     },
     "metadata": {}
    }
   ],
   "execution_count": 8
  },
  {
   "cell_type": "markdown",
   "source": "<a style='text-decoration:none;line-height:16px;display:flex;color:#5B5B62;padding:10px;justify-content:end;' href='https://deepnote.com?utm_source=created-in-deepnote-cell&projectId=59c466a3-ad43-41a1-9517-cab1096e0dcf' target=\"_blank\">\n<img alt='Created in deepnote.com' style='display:inline;max-height:16px;margin:0px;margin-right:7.5px;' src='data:image/svg+xml;base64,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' > </img>\nCreated in <span style='font-weight:600;margin-left:4px;'>Deepnote</span></a>",
   "metadata": {
    "tags": [],
    "created_in_deepnote_cell": true,
    "deepnote_cell_type": "markdown"
   }
  }
 ],
 "nbformat": 4,
 "nbformat_minor": 2,
 "metadata": {
  "orig_nbformat": 2,
  "deepnote": {},
  "deepnote_notebook_id": "88d52af0-daba-4d5e-b2da-c34921037857",
  "deepnote_execution_queue": []
 }
}